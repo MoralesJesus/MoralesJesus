{
  "nbformat": 4,
  "nbformat_minor": 0,
  "metadata": {
    "colab": {
      "provenance": [],
      "authorship_tag": "ABX9TyOOaOu2yHrV9ZFktVXpFMlT",
      "include_colab_link": true
    },
    "kernelspec": {
      "name": "python3",
      "display_name": "Python 3"
    },
    "language_info": {
      "name": "python"
    }
  },
  "cells": [
    {
      "cell_type": "markdown",
      "metadata": {
        "id": "view-in-github",
        "colab_type": "text"
      },
      "source": [
        "<a href=\"https://colab.research.google.com/github/MoralesJesus/MoralesJesus/blob/main/Untitled0.ipynb\" target=\"_parent\"><img src=\"https://colab.research.google.com/assets/colab-badge.svg\" alt=\"Open In Colab\"/></a>"
      ]
    },
    {
      "cell_type": "code",
      "execution_count": 3,
      "metadata": {
        "id": "kvN74XZTdfZs"
      },
      "outputs": [],
      "source": [
        "# ' 2 ' corresponde a la categoria en el sistema\n",
        "miVar = 2"
      ]
    },
    {
      "cell_type": "code",
      "source": [
        "otraVar = \" Hola \" # Este es un comentario"
      ],
      "metadata": {
        "id": "xmJh49YLeFdY"
      },
      "execution_count": 4,
      "outputs": []
    },
    {
      "cell_type": "code",
      "source": [
        "\"\"\"\n",
        "Hola esto es un comentario\n",
        "esta es otra linea\n",
        "y esta una tercera\n",
        "\"\"\""
      ],
      "metadata": {
        "id": "h-qEPmAleYNb"
      },
      "execution_count": null,
      "outputs": []
    },
    {
      "cell_type": "markdown",
      "source": [
        "# Funcion print"
      ],
      "metadata": {
        "id": "_ZJ83l7uemim"
      }
    },
    {
      "cell_type": "code",
      "source": [
        "print(\" Hola a todos \")"
      ],
      "metadata": {
        "colab": {
          "base_uri": "https://localhost:8080/"
        },
        "id": "4vcDkWFoeu2N",
        "outputId": "e3faff18-3ea1-4e46-9a97-333b30d08053"
      },
      "execution_count": 7,
      "outputs": [
        {
          "output_type": "stream",
          "name": "stdout",
          "text": [
            " Hola a todos \n"
          ]
        }
      ]
    },
    {
      "cell_type": "code",
      "source": [
        "miEdad = 21\n",
        "print(\" Mi edad es \" + str(miEdad))"
      ],
      "metadata": {
        "colab": {
          "base_uri": "https://localhost:8080/"
        },
        "id": "UX4Q1_Q1fC9I",
        "outputId": "46a92d29-e535-418c-ab93-d1b96e673a25"
      },
      "execution_count": 9,
      "outputs": [
        {
          "output_type": "stream",
          "name": "stdout",
          "text": [
            " Mi edad es 21\n"
          ]
        }
      ]
    },
    {
      "cell_type": "code",
      "source": [
        "print(\" Mi edad es\", miEdad)"
      ],
      "metadata": {
        "colab": {
          "base_uri": "https://localhost:8080/"
        },
        "id": "RtKEJT6hfT_m",
        "outputId": "ea6e7b31-f1cf-4043-913c-46ea2d9c0d78"
      },
      "execution_count": 10,
      "outputs": [
        {
          "output_type": "stream",
          "name": "stdout",
          "text": [
            " Mi edad es 21\n"
          ]
        }
      ]
    },
    {
      "cell_type": "code",
      "source": [
        "print (f\" Mi edad es {miEdad}\")"
      ],
      "metadata": {
        "colab": {
          "base_uri": "https://localhost:8080/"
        },
        "id": "sLro0PgJfdTL",
        "outputId": "89d14f42-29ac-4137-8a61-7b8705317c0f"
      },
      "execution_count": 11,
      "outputs": [
        {
          "output_type": "stream",
          "name": "stdout",
          "text": [
            " Mi edad es 21\n"
          ]
        }
      ]
    },
    {
      "cell_type": "markdown",
      "source": [
        "# Funcion input"
      ],
      "metadata": {
        "id": "CO5iM32IgWQb"
      }
    },
    {
      "cell_type": "code",
      "source": [
        "edad = int(input (\"Dime tu edad \"))"
      ],
      "metadata": {
        "colab": {
          "base_uri": "https://localhost:8080/"
        },
        "id": "GRv_BLtdgZkD",
        "outputId": "a09b0820-1156-4bb0-a175-e5995d1cf8a5"
      },
      "execution_count": 17,
      "outputs": [
        {
          "name": "stdout",
          "output_type": "stream",
          "text": [
            "Dime tu edad 21\n"
          ]
        }
      ]
    },
    {
      "cell_type": "code",
      "source": [
        "edad + 1"
      ],
      "metadata": {
        "colab": {
          "base_uri": "https://localhost:8080/"
        },
        "id": "HqfyD-o8g3QQ",
        "outputId": "973291a1-3d2f-47e9-b449-114690313b59"
      },
      "execution_count": 18,
      "outputs": [
        {
          "output_type": "execute_result",
          "data": {
            "text/plain": [
              "22"
            ]
          },
          "metadata": {},
          "execution_count": 18
        }
      ]
    },
    {
      "cell_type": "markdown",
      "source": [
        "# Funciones"
      ],
      "metadata": {
        "id": "8FGPnc4YhLJi"
      }
    },
    {
      "cell_type": "code",
      "source": [
        "def sumarNumeros(numeroA, numeroB):\n",
        "  suma = numeroA + numeroB\n",
        "  return suma"
      ],
      "metadata": {
        "id": "ChxL1F_qhOdb"
      },
      "execution_count": 19,
      "outputs": []
    },
    {
      "cell_type": "code",
      "source": [
        "sumarNumeros(3,2)"
      ],
      "metadata": {
        "colab": {
          "base_uri": "https://localhost:8080/"
        },
        "id": "8-kBPIqghjCs",
        "outputId": "049c1fe2-1e93-4903-c1c0-bc3c6b144e72"
      },
      "execution_count": 20,
      "outputs": [
        {
          "output_type": "execute_result",
          "data": {
            "text/plain": [
              "5"
            ]
          },
          "metadata": {},
          "execution_count": 20
        }
      ]
    }
  ]
}