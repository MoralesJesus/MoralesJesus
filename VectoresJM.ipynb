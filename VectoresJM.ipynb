{
  "nbformat": 4,
  "nbformat_minor": 0,
  "metadata": {
    "colab": {
      "provenance": [],
      "authorship_tag": "ABX9TyNTslh1eos4RQ49pnq+X4Ld",
      "include_colab_link": true
    },
    "kernelspec": {
      "name": "python3",
      "display_name": "Python 3"
    },
    "language_info": {
      "name": "python"
    }
  },
  "cells": [
    {
      "cell_type": "markdown",
      "metadata": {
        "id": "view-in-github",
        "colab_type": "text"
      },
      "source": [
        "<a href=\"https://colab.research.google.com/github/MoralesJesus/MoralesJesus/blob/main/VectoresJM.ipynb\" target=\"_parent\"><img src=\"https://colab.research.google.com/assets/colab-badge.svg\" alt=\"Open In Colab\"/></a>"
      ]
    },
    {
      "cell_type": "code",
      "execution_count": null,
      "metadata": {
        "colab": {
          "base_uri": "https://localhost:8080/"
        },
        "id": "vm5LjvcCHBVr",
        "outputId": "8fae718b-9052-499d-80ef-b8d9fb607869"
      },
      "outputs": [
        {
          "output_type": "stream",
          "name": "stdout",
          "text": [
            "Requirement already satisfied: nacal in /usr/local/lib/python3.10/dist-packages (0.1.30)\n",
            "Requirement already satisfied: sympy>=1.1.0 in /usr/local/lib/python3.10/dist-packages (from nacal) (1.12)\n",
            "Requirement already satisfied: mpmath>=0.19 in /usr/local/lib/python3.10/dist-packages (from sympy>=1.1.0->nacal) (1.3.0)\n"
          ]
        }
      ],
      "source": [
        "!pip install --target=$nb_path nacal\n",
        "from nacal import *"
      ]
    },
    {
      "cell_type": "markdown",
      "source": [
        "# **VECTORES**\n",
        "**1. ¿Es verdad que**\n",
        "\n",
        "$$\n",
        "\\begin{pmatrix}\n",
        "1 \\\\ 2 \\\\ 3\n",
        "\\end{pmatrix}\n",
        "+\n",
        "\\begin{pmatrix}\n",
        "4 \\\\ 5 \\\\ 6\n",
        "\\end{pmatrix}\n",
        "=\n",
        "\\begin{pmatrix}\n",
        "4 \\\\ 5 \\\\ 6\n",
        "\\end{pmatrix}\n",
        "+\n",
        "\\begin{pmatrix}\n",
        "1 \\\\ 2 \\\\ 3\n",
        "\\end{pmatrix}\n",
        "$$\n",
        "\n",
        "¿Es cierto solo para los números del ejemplo? o ¿es una regla general para cualquier par de vectores?\n",
        "\n",
        "**R= El resultado será el mismo. Esto es válido para cualquier conjunto de vectores**\n"
      ],
      "metadata": {
        "id": "i6zVSXPxBUpG"
      }
    },
    {
      "cell_type": "code",
      "source": [
        "a = Vector( [1,2,3] )\n",
        "b = Vector( [4,5,6] )\n",
        "b = a + b\n",
        "\n",
        "b"
      ],
      "metadata": {
        "colab": {
          "base_uri": "https://localhost:8080/",
          "height": 46
        },
        "id": "CfkPQfXNH4BI",
        "outputId": "1fdc1f73-33ad-45c6-bc86-23294abc00df"
      },
      "execution_count": null,
      "outputs": [
        {
          "output_type": "execute_result",
          "data": {
            "text/plain": [
              "Vector([5, 7, 9])"
            ],
            "text/html": [
              "<p style=\"text-align:center;\">$\\begin{pmatrix}5\\\\ 7\\\\ 9\\end{pmatrix}$</p>"
            ],
            "image/png": "$\\begin{pmatrix}5\\\\ 7\\\\ 9\\end{pmatrix}$",
            "text/latex": "$\\begin{pmatrix}5\\\\ 7\\\\ 9\\end{pmatrix}$"
          },
          "metadata": {},
          "execution_count": 35
        }
      ]
    },
    {
      "cell_type": "markdown",
      "source": [
        "**2. ¿Es verdad que**\n",
        "$$\n",
        "\\begin{pmatrix}\n",
        "1 \\\\2\n",
        "\\end{pmatrix}\n",
        "+ \\left ( \\begin{pmatrix}\n",
        "4 \\\\5\n",
        "\\end{pmatrix}\n",
        "+\n",
        "\\begin{pmatrix}\n",
        "1 \\\\0\n",
        "\\end{pmatrix}\n",
        "\\right )\n",
        "=\n",
        "\\left ( \\begin{pmatrix}\n",
        "1 \\\\2\n",
        "\\end{pmatrix}\n",
        "+\n",
        "\\begin{pmatrix}\n",
        "4 \\\\5\n",
        "\\end{pmatrix}\n",
        "\\right )\n",
        "+\n",
        "\\begin{pmatrix}\n",
        "1 \\\\0\n",
        "\\end{pmatrix}\n",
        "$$\n",
        "\n",
        "El paréntesis significa que primero hay que hacer la suma dentro del paréntesis, y al vector resultante\n",
        "sumarle el vector de fuera.\n",
        "¿Es cierto solo para los números del ejemplo? o ¿es una regla general para cualquier trío de vectores?\n",
        "\n",
        "**R= Es una regla general para cualquier trío de vectores no importa cómo se agrupen las sumas, el resultado final será el mismo**"
      ],
      "metadata": {
        "id": "9LIciYIvILhi"
      }
    },
    {
      "cell_type": "code",
      "source": [
        "a = Vector([1,2])\n",
        "b = Vector([4,5])\n",
        "c = Vector([1,0])"
      ],
      "metadata": {
        "id": "RdI6H66PIVm8"
      },
      "execution_count": null,
      "outputs": []
    },
    {
      "cell_type": "markdown",
      "source": [
        "$\\begin{pmatrix}5\\\\ 7\\\\ 9\\end{pmatrix}$"
      ],
      "metadata": {
        "id": "MDaPI5OvIvLQ"
      }
    },
    {
      "cell_type": "code",
      "source": [
        "intermedio = b + c\n",
        "final = a + intermedio\n",
        "print(final)"
      ],
      "metadata": {
        "colab": {
          "base_uri": "https://localhost:8080/"
        },
        "id": "34QUz8VyI0LW",
        "outputId": "57d63b9f-e72d-4704-9a06-89d1e995b937"
      },
      "execution_count": null,
      "outputs": [
        {
          "output_type": "stream",
          "name": "stdout",
          "text": [
            "Vector([10, 14, 18])\n"
          ]
        }
      ]
    },
    {
      "cell_type": "markdown",
      "source": [
        "**3. ¿Es verdad que**\n",
        "\n",
        "$$\n",
        "\\begin{pmatrix}\n",
        "4 \\\\ 5 \\\\ 6\n",
        "\\end{pmatrix}\n",
        "+\n",
        "\\begin{pmatrix}\n",
        "0 \\\\ 0 \\\\ 0\n",
        "\\end{pmatrix}\n",
        "=\n",
        "\\begin{pmatrix}\n",
        "4 \\\\ 5 \\\\ 6\n",
        "\\end{pmatrix}\n",
        "$$\n",
        "\n",
        "¿Es cierto solo para los vectores del ejemplo? o ¿es una regla general para cualquier par de vectores?\n",
        "\n",
        "**R= Sumar un vector cero a cualquier otro vector siempre resultará en el mismo vector original**"
      ],
      "metadata": {
        "id": "MlEwZom-JBup"
      }
    },
    {
      "cell_type": "markdown",
      "source": [
        "**4. ¿Es verdad que**\n",
        "$$\n",
        "\\begin{pmatrix}\n",
        "4 \\\\\n",
        "5 \\\\\n",
        "6\n",
        "\\end{pmatrix}\n",
        "+\n",
        "\\begin{pmatrix}\n",
        "-4 \\\\\n",
        "-5 \\\\\n",
        "-6\n",
        "\\end{pmatrix}\n",
        "=\n",
        "\\begin{pmatrix}\n",
        "0 \\\\\n",
        "0 \\\\\n",
        "0\n",
        "\\end{pmatrix}\n",
        "$$\n",
        "\n",
        "¿Es cierto solo para los vectores del ejemplo? o ¿es una regla general para cualquier par de vectores?\n",
        "\n",
        "**R= Cuando sumas un vector con su inverso, siempre obtendrás el vector cero.**"
      ],
      "metadata": {
        "id": "MnYH8eA-U_m5"
      }
    },
    {
      "cell_type": "code",
      "source": [
        "a = Vector([4,5,6])\n",
        "b = Vector([-4,-5,-6])\n",
        "b = a + b\n",
        "b"
      ],
      "metadata": {
        "colab": {
          "base_uri": "https://localhost:8080/",
          "height": 46
        },
        "id": "xE6pptSBKTyr",
        "outputId": "8034fa49-c4a4-4e85-a495-c08fd283129e"
      },
      "execution_count": null,
      "outputs": [
        {
          "output_type": "execute_result",
          "data": {
            "text/plain": [
              "Vector([0, 0, 0])"
            ],
            "text/html": [
              "<p style=\"text-align:center;\">$\\begin{pmatrix}0\\\\ 0\\\\ 0\\end{pmatrix}$</p>"
            ],
            "image/png": "$\\begin{pmatrix}0\\\\ 0\\\\ 0\\end{pmatrix}$",
            "text/latex": "$\\begin{pmatrix}0\\\\ 0\\\\ 0\\end{pmatrix}$"
          },
          "metadata": {},
          "execution_count": 39
        }
      ]
    },
    {
      "cell_type": "markdown",
      "source": [
        "$\\begin{pmatrix}0\\\\ 0\\\\ 0\\end{pmatrix}$"
      ],
      "metadata": {
        "id": "13dkB2O_Kzex"
      }
    },
    {
      "cell_type": "markdown",
      "source": [
        "**5. ¿Es verdad que**\n",
        "\n",
        "$$\n",
        "2 \\cdot \\begin{pmatrix} 1 \\\\ -1 \\end{pmatrix} + \\begin{pmatrix} 4 \\\\ 5 \\end{pmatrix} = 2 \\cdot \\begin{pmatrix} 1 \\\\ -1 \\end{pmatrix} + 2 \\cdot \\begin{pmatrix} 4 \\\\ 5 \\end{pmatrix}\n",
        "$$\n",
        "\n",
        "\n",
        "(recuerde que primero se realizan las operaciones de dentro del paréntesis) ¿Es una regla general para\n",
        "cualquier par de vectores? ¿Y si cambiamos el escalar 2 por otro número?\n",
        "\n",
        "**R= Esta igualdad es verdadera y es una regla general para cualquier par de vectores  **"
      ],
      "metadata": {
        "id": "mNk3l8lgLyl5"
      }
    },
    {
      "cell_type": "code",
      "source": [
        "a = 2\n",
        "b = Vector([1,-1])\n",
        "c = Vector([4,5])\n",
        "h = a * (b + c)\n",
        "h"
      ],
      "metadata": {
        "colab": {
          "base_uri": "https://localhost:8080/",
          "height": 46
        },
        "id": "hGuCNWYKMONc",
        "outputId": "9dd48070-30af-45b2-f685-fc2d3602294a"
      },
      "execution_count": null,
      "outputs": [
        {
          "output_type": "execute_result",
          "data": {
            "text/plain": [
              "Vector([10, 8])"
            ],
            "text/html": [
              "<p style=\"text-align:center;\">$\\begin{pmatrix}10\\\\ 8\\end{pmatrix}$</p>"
            ],
            "image/png": "$\\begin{pmatrix}10\\\\ 8\\end{pmatrix}$",
            "text/latex": "$\\begin{pmatrix}10\\\\ 8\\end{pmatrix}$"
          },
          "metadata": {},
          "execution_count": 40
        }
      ]
    },
    {
      "cell_type": "code",
      "source": [
        "intermedio = b + c\n",
        "final = intermedio * a\n",
        "print(final)"
      ],
      "metadata": {
        "colab": {
          "base_uri": "https://localhost:8080/"
        },
        "id": "XQ8VgG_WMV4O",
        "outputId": "3335aea8-061c-470b-9254-04bed8066e91"
      },
      "execution_count": null,
      "outputs": [
        {
          "output_type": "stream",
          "name": "stdout",
          "text": [
            "Vector([10, 8])\n"
          ]
        }
      ]
    },
    {
      "cell_type": "markdown",
      "source": [
        "$$\n",
        "\\begin{pmatrix} 10 \\\\ 8\\ \\end{pmatrix}\n",
        "$$"
      ],
      "metadata": {
        "id": "lan1lxEgQD0l"
      }
    },
    {
      "cell_type": "markdown",
      "source": [
        "6. ¿Es verdad que\n",
        "\n",
        "$$\n",
        "(2 + 3) \\cdot \\begin{pmatrix} 1 \\\\ 2 \\\\ 3 \\end{pmatrix} = 2 \\cdot \\begin{pmatrix} 1 \\\\ 2 \\\\ 3 \\end{pmatrix} + 3 \\cdot \\begin{pmatrix} 1 \\\\ 2 \\\\ 3 \\end{pmatrix}\n",
        "$$\n",
        "\n",
        "(recuerde que primero se realizan las operaciones de dentro del paréntesis) ¿Es una regla general para\n",
        "cualquier par de vectores? ¿y si cambiamos los escalares 2 y 3 por otros números?\n",
        "\n",
        "**R= Esta igualdad también será verdadera**"
      ],
      "metadata": {
        "id": "OAEPzvlZQX3o"
      }
    },
    {
      "cell_type": "code",
      "source": [
        "a = 2+3\n",
        "b = Vector([1,2,3])\n",
        "h = a * b\n",
        "h"
      ],
      "metadata": {
        "colab": {
          "base_uri": "https://localhost:8080/",
          "height": 46
        },
        "id": "445-GKopQjqk",
        "outputId": "c1a4b778-3e42-4f0e-81cf-4f9dbc830e90"
      },
      "execution_count": null,
      "outputs": [
        {
          "output_type": "execute_result",
          "data": {
            "text/plain": [
              "Vector([5, 10, 15])"
            ],
            "text/html": [
              "<p style=\"text-align:center;\">$\\begin{pmatrix}5\\\\ 10\\\\ 15\\end{pmatrix}$</p>"
            ],
            "image/png": "$\\begin{pmatrix}5\\\\ 10\\\\ 15\\end{pmatrix}$",
            "text/latex": "$\\begin{pmatrix}5\\\\ 10\\\\ 15\\end{pmatrix}$"
          },
          "metadata": {},
          "execution_count": 28
        }
      ]
    },
    {
      "cell_type": "markdown",
      "source": [
        "$\\begin{pmatrix}5\\\\ 10\\\\ 15\\end{pmatrix}$"
      ],
      "metadata": {
        "id": "0x-uf16WMzs5"
      }
    },
    {
      "cell_type": "markdown",
      "source": [
        "7. ¿Es verdad que\n",
        "$$\n",
        "2 \\ \\begin{pmatrix} 3 \\\\ 1 \\\\ 2 \\end{pmatrix} = (2 \\cdot 3) \\ \\begin{pmatrix} 1 \\\\ 2 \\end{pmatrix}\n",
        "$$\n",
        "(recuerde, primero las operaciones dentro de los paréntesis). Hágase las mismas preguntas de arriba.\n",
        "\n",
        "**R= Esta igualdad también será verdadera**"
      ],
      "metadata": {
        "id": "-HxtETEyRJRr"
      }
    },
    {
      "cell_type": "code",
      "source": [
        "a = 3 * 2\n",
        "b = Vector ([1,2])\n",
        "b = a * b\n",
        "h"
      ],
      "metadata": {
        "colab": {
          "base_uri": "https://localhost:8080/",
          "height": 46
        },
        "id": "UpoMMItMSdtE",
        "outputId": "1c474183-ad16-4dc4-fed5-8f8b9256cbe1"
      },
      "execution_count": null,
      "outputs": [
        {
          "output_type": "execute_result",
          "data": {
            "text/plain": [
              "Vector([6, 12])"
            ],
            "text/html": [
              "<p style=\"text-align:center;\">$\\begin{pmatrix}6\\\\ 12\\end{pmatrix}$</p>"
            ],
            "image/png": "$\\begin{pmatrix}6\\\\ 12\\end{pmatrix}$",
            "text/latex": "$\\begin{pmatrix}6\\\\ 12\\end{pmatrix}$"
          },
          "metadata": {},
          "execution_count": 32
        }
      ]
    },
    {
      "cell_type": "markdown",
      "source": [
        "$\\begin{pmatrix}6\\\\ 12\\end{pmatrix}$"
      ],
      "metadata": {
        "id": "peRzpnF7M3uB"
      }
    },
    {
      "cell_type": "markdown",
      "source": [
        "8. ¿Es verdad que si a = 1\n",
        "\n",
        "¿Es cierto solo para el escalar a = 1?\n",
        "\n",
        "$$\n",
        "a \\cdot \\begin{pmatrix} 1 \\\\ 2 \\\\ 3 \\end{pmatrix}\n",
        "= \\begin{pmatrix} 1 \\\\ 2 \\\\ 3 \\end{pmatrix}\n",
        "$$\n",
        "\n",
        "¿Es cierto solo para el escalar a = 1?\n",
        "\n",
        "**R=  la igualdad es cierta solo para el escalar a=1**"
      ],
      "metadata": {
        "id": "SY3jcX8zO-hO"
      }
    },
    {
      "cell_type": "code",
      "source": [
        "a = a\n",
        "b = Vector([1,2,3])\n",
        "c = a * b\n",
        "c"
      ],
      "metadata": {
        "colab": {
          "base_uri": "https://localhost:8080/",
          "height": 46
        },
        "id": "lyErRS_UPFyr",
        "outputId": "aae24ae9-0c5b-4770-a84b-965ddf62d944"
      },
      "execution_count": null,
      "outputs": [
        {
          "output_type": "execute_result",
          "data": {
            "text/plain": [
              "Vector([2, 4, 6])"
            ],
            "text/html": [
              "<p style=\"text-align:center;\">$\\begin{pmatrix}2\\\\ 4\\\\ 6\\end{pmatrix}$</p>"
            ],
            "image/png": "$\\begin{pmatrix}2\\\\ 4\\\\ 6\\end{pmatrix}$",
            "text/latex": "$\\begin{pmatrix}2\\\\ 4\\\\ 6\\end{pmatrix}$"
          },
          "metadata": {},
          "execution_count": 25
        }
      ]
    },
    {
      "cell_type": "markdown",
      "source": [
        "$$\n",
        "\\begin{pmatrix} 1 \\\\ 2 \\\\ 3 \\end{pmatrix}\n",
        "$$"
      ],
      "metadata": {
        "id": "W_JWlomyPt-X"
      }
    }
  ]
}